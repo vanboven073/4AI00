{
 "cells": [
  {
   "cell_type": "code",
   "execution_count": 1,
   "metadata": {},
   "outputs": [
    {
     "name": "stderr",
     "output_type": "stream",
     "text": [
      "c:\\Users\\20193709\\AppData\\Local\\anaconda3\\envs\\ml4sc\\lib\\site-packages\\tqdm\\auto.py:21: TqdmWarning: IProgress not found. Please update jupyter and ipywidgets. See https://ipywidgets.readthedocs.io/en/stable/user_install.html\n",
      "  from .autonotebook import tqdm as notebook_tqdm\n"
     ]
    }
   ],
   "source": [
    "# Imports\n",
    "import torch\n",
    "import torch.nn as nn\n",
    "import torch.optim as optim\n",
    "import torchvision.transforms as transforms\n",
    "from torch.utils.data import Dataset, DataLoader\n",
    "from sklearn.model_selection import train_test_split\n",
    "\n",
    "import os\n",
    "from PIL import Image\n",
    "import numpy as np\n",
    "import pandas as pd\n",
    "import matplotlib.pyplot as plt\n",
    "from skimage.filters import threshold_otsu"
   ]
  },
  {
   "cell_type": "code",
   "execution_count": 2,
   "metadata": {},
   "outputs": [],
   "source": [
    "def get_default_device():\n",
    "    \"\"\"Pick GPU if available, else CPU\"\"\"\n",
    "    if torch.cuda.is_available():\n",
    "        return torch.device('cuda')\n",
    "    else:\n",
    "        return torch.device('cpu')"
   ]
  },
  {
   "cell_type": "code",
   "execution_count": 3,
   "metadata": {},
   "outputs": [
    {
     "data": {
      "text/plain": [
       "device(type='cpu')"
      ]
     },
     "execution_count": 3,
     "metadata": {},
     "output_type": "execute_result"
    }
   ],
   "source": [
    "device = get_default_device()\n",
    "device"
   ]
  },
  {
   "cell_type": "code",
   "execution_count": 4,
   "metadata": {},
   "outputs": [],
   "source": [
    "# Define the U-Net architecture for binary segmentation\n",
    "class UNet(nn.Module):\n",
    "    def __init__(self):\n",
    "        super(UNet, self).__init__()\n",
    "\n",
    "        # Encoder (downsampling path)\n",
    "        self.enc_conv1 = nn.Conv2d(3, 64, kernel_size=3, padding=1)\n",
    "        self.enc_conv2 = nn.Conv2d(64, 64, kernel_size=3, padding=1)\n",
    "        self.enc_pool1 = nn.MaxPool2d(kernel_size=2, stride=2)\n",
    "\n",
    "        self.enc_conv3 = nn.Conv2d(64, 128, kernel_size=3, padding=1)\n",
    "        self.enc_conv4 = nn.Conv2d(128, 128, kernel_size=3, padding=1)\n",
    "        self.enc_pool2 = nn.MaxPool2d(kernel_size=2, stride=2)\n",
    "\n",
    "        self.enc_conv5 = nn.Conv2d(128, 256, kernel_size=3, padding=1)\n",
    "        self.enc_conv6 = nn.Conv2d(256, 256, kernel_size=3, padding=1)\n",
    "        self.enc_pool3 = nn.MaxPool2d(kernel_size=2, stride=2)\n",
    "\n",
    "        self.enc_conv7 = nn.Conv2d(256, 512, kernel_size=3, padding=1)\n",
    "        self.enc_conv8 = nn.Conv2d(512, 512, kernel_size=3, padding=1)\n",
    "        self.enc_pool4 = nn.MaxPool2d(kernel_size=2, stride=2)\n",
    "\n",
    "        # Bottleneck\n",
    "        self.bottleneck_conv1 = nn.Conv2d(512, 1024, kernel_size=3, padding=1)\n",
    "        self.bottleneck_conv2 = nn.Conv2d(1024, 1024, kernel_size=3, padding=1)\n",
    "\n",
    "        # Decoder (upsampling path)\n",
    "        self.dec_upsample1 = nn.Upsample(scale_factor=2, mode='bilinear', align_corners=False)\n",
    "        self.dec_conv1 = nn.Conv2d(1024 + 512, 512, kernel_size=3, padding=1)\n",
    "        self.dec_conv2 = nn.Conv2d(512, 512, kernel_size=3, padding=1)\n",
    "\n",
    "        self.dec_upsample2 = nn.Upsample(scale_factor=2, mode='bilinear', align_corners=False)\n",
    "        self.dec_conv3 = nn.Conv2d(512 + 256, 256, kernel_size=3, padding=1)\n",
    "        self.dec_conv4 = nn.Conv2d(256, 256, kernel_size=3, padding=1)\n",
    "\n",
    "        self.dec_upsample3 = nn.Upsample(scale_factor=2, mode='bilinear', align_corners=False)\n",
    "        self.dec_conv5 = nn.Conv2d(256 + 128, 128, kernel_size=3, padding=1)\n",
    "        self.dec_conv6 = nn.Conv2d(128, 128, kernel_size=3, padding=1)\n",
    "\n",
    "        self.dec_upsample4 = nn.Upsample(scale_factor=2, mode='bilinear', align_corners=False)\n",
    "        self.dec_conv7 = nn.Conv2d(128 + 64, 64, kernel_size=3, padding=1)\n",
    "        self.dec_conv8 = nn.Conv2d(64, 64, kernel_size=3, padding=1)\n",
    "\n",
    "          # Output\n",
    "        self.output_conv = nn.Conv2d(64, 1, kernel_size=1)  # 1x1 convolution for binary segmentation\n",
    "\n",
    "\n",
    "    def forward(self, x):\n",
    "        # Encoder (downsampling path)\n",
    "        enc1 = nn.ReLU()(self.enc_conv1(x))\n",
    "        enc2 = nn.ReLU()(self.enc_conv2(enc1))\n",
    "        enc2_pool = self.enc_pool1(enc2)\n",
    "\n",
    "        enc3 = nn.ReLU()(self.enc_conv3(enc2_pool))\n",
    "        enc4 = nn.ReLU()(self.enc_conv4(enc3))\n",
    "        enc4_pool = self.enc_pool2(enc4)\n",
    "\n",
    "        enc5 = nn.ReLU()(self.enc_conv5(enc4_pool))\n",
    "        enc6 = nn.ReLU()(self.enc_conv6(enc5))\n",
    "        enc6_pool = self.enc_pool3(enc6)\n",
    "\n",
    "        enc7 = nn.ReLU()(self.enc_conv7(enc6_pool))\n",
    "        enc8 = nn.ReLU()(self.enc_conv8(enc7))\n",
    "        enc8_pool = self.enc_pool4(enc8)\n",
    "\n",
    "        # Bottleneck\n",
    "        bottleneck = nn.ReLU()(self.bottleneck_conv1(enc8_pool))\n",
    "        bottleneck = nn.ReLU()(self.bottleneck_conv2(bottleneck))\n",
    "\n",
    "        # Decoder (upsampling path)\n",
    "        dec1 = self.dec_upsample1(bottleneck)\n",
    "        dec1 = torch.cat([dec1, enc8], dim=1)\n",
    "        dec1 = nn.ReLU()(self.dec_conv1(dec1))\n",
    "        dec1 = nn.ReLU()(self.dec_conv2(dec1))\n",
    "\n",
    "        dec2 = self.dec_upsample2(dec1)\n",
    "        dec2 = torch.cat([dec2, enc6], dim=1)\n",
    "        dec2 = nn.ReLU()(self.dec_conv3(dec2))\n",
    "        dec2 = nn.ReLU()(self.dec_conv4(dec2))\n",
    "\n",
    "        dec3 = self.dec_upsample3(dec2)\n",
    "        dec3 = torch.cat([dec3, enc4], dim=1)\n",
    "        dec3 = nn.ReLU()(self.dec_conv5(dec3))\n",
    "        dec3 = nn.ReLU()(self.dec_conv6(dec3))\n",
    "\n",
    "        dec4 = self.dec_upsample4(dec3)\n",
    "        dec4 = torch.cat([dec4, enc2], dim=1)\n",
    "        dec4 = nn.ReLU()(self.dec_conv7(dec4))\n",
    "        dec4 = nn.ReLU()(self.dec_conv8(dec4))\n",
    "\n",
    "        # Output\n",
    "        output = self.output_conv(dec4)\n",
    "        return output   \n",
    "    \n",
    "    # Create an instance of the FCN model\n",
    "model = UNet()"
   ]
  },
  {
   "cell_type": "code",
   "execution_count": 5,
   "metadata": {},
   "outputs": [],
   "source": [
    "# Define criterion and optimizer\n",
    "criterion = nn.MSELoss()  # nn.CrossEntropyLoss()\n",
    "optimizer = optim.Adam(model.parameters(), lr=0.001)"
   ]
  },
  {
   "cell_type": "code",
   "execution_count": 6,
   "metadata": {},
   "outputs": [],
   "source": [
    "# Define transforms\n",
    "transform = transforms.Compose([\n",
    "    transforms.ToTensor(),\n",
    "    # transforms.Normalize(mean=[0.4414, 0.4456, 0.3421],  # Normalization of real images\n",
    "    #                         std=[0.2741, 0.2734, 0.3030])\n",
    "])\n",
    "transform_mask = transforms.Compose([\n",
    "    transforms.ToTensor(),\n",
    "])"
   ]
  },
  {
   "cell_type": "code",
   "execution_count": 7,
   "metadata": {},
   "outputs": [],
   "source": [
    "# In this example, the CustomDataset takes in two lists of file paths: image_list and mask_list, representing the paths to the images and their corresponding masks, \n",
    "# respectively. It also takes in an optional transform argument to apply any necessary transformations to the images and masks.\n",
    "class CustomDataset(Dataset):\n",
    "    def __init__(self, image_list, mask_list, transform=None, transform_mask=None):\n",
    "        # self.image_list = image_list\n",
    "        # self.mask_list = mask_list\n",
    "        self.image_list = [os.path.join(image_list, f) for f in os.listdir(image_list)]\n",
    "        self.mask_list = [os.path.join(mask_list, f) for f in os.listdir(mask_list)]\n",
    "        self.transform = transform\n",
    "        self.transform_mask = transform_mask\n",
    "\n",
    "    def __len__(self):\n",
    "        return len(self.image_list)\n",
    "    \n",
    "    # def binarize_mask(self, mask):\n",
    "    #     threshold_value = threshold_otsu(mask)\n",
    "    #     binary_mask = (mask >= threshold_value).astype(int)\n",
    "    #     return binary_mask\n",
    "\n",
    "    def __getitem__(self, idx):\n",
    "        image_path = self.image_list[idx]\n",
    "        mask_path = self.mask_list[idx]\n",
    "        image = Image.open(image_path)\n",
    "        image = image.convert('RGB')\n",
    "        mask = Image.open(mask_path)\n",
    "        mask = mask.convert('L')\n",
    "        # threshold_value = threshold_otsu(mask)\n",
    "        # threshold_value = 0.0040  # Adjust the threshold value as needed\n",
    "        # mask = (np.array(mask) >= threshold_value).astype(np.uint8)\n",
    "\n",
    "        if self.transform:\n",
    "            image = self.transform(image)\n",
    "        if self.transform_mask:\n",
    "            mask = self.transform_mask(mask)\n",
    "\n",
    "\n",
    "        return image, mask"
   ]
  },
  {
   "cell_type": "code",
   "execution_count": 8,
   "metadata": {},
   "outputs": [],
   "source": [
    "data = CustomDataset('17_06/102_Real/','17_06/102_Mask/', transform=transform, transform_mask=transform_mask)"
   ]
  },
  {
   "cell_type": "code",
   "execution_count": 9,
   "metadata": {},
   "outputs": [],
   "source": [
    "train_data, val_data = train_test_split(data, test_size=0.2, random_state=42)"
   ]
  },
  {
   "cell_type": "code",
   "execution_count": 10,
   "metadata": {},
   "outputs": [],
   "source": [
    "# Define the data loader\n",
    "batch_size = 8\n",
    "train_loader = DataLoader(train_data, batch_size=batch_size, shuffle=True)\n",
    "val_loader = DataLoader(val_data, batch_size=batch_size, shuffle=False)\n",
    "\n",
    "len_train = len(train_loader)*batch_size\n",
    "len_val = len(val_loader)*batch_size"
   ]
  },
  {
   "cell_type": "code",
   "execution_count": 11,
   "metadata": {},
   "outputs": [
    {
     "name": "stdout",
     "output_type": "stream",
     "text": [
      "mean: tensor([0.4084, 0.4125, 0.3170])\n",
      "std:  tensor([0.2865, 0.2865, 0.3031])\n"
     ]
    }
   ],
   "source": [
    "# Mean and STD calculations for real images\n",
    "psum    = torch.tensor([0.0, 0.0, 0.0])\n",
    "psum_sq = torch.tensor([0.0, 0.0, 0.0])\n",
    "\n",
    "# loop through images\n",
    "# for inputs in train_data:#DataLoader(train_data, batch_size=batch_size, shuffle=True):\n",
    "for i, (images, labels) in enumerate(train_loader):\n",
    "    psum    += images.sum(axis        = [0, 2, 3])\n",
    "    psum_sq += (images ** 2).sum(axis = [0, 2, 3])\n",
    "    \n",
    "\n",
    "# Final Calculation\n",
    "# pixel count\n",
    "image_size = 256\n",
    "count = len_train * image_size * image_size\n",
    "\n",
    "# mean and std\n",
    "total_mean = psum / count\n",
    "total_var  = (psum_sq / count) - (total_mean ** 2)\n",
    "total_std  = torch.sqrt(total_var)\n",
    "\n",
    "# output\n",
    "print('mean: '  + str(total_mean))\n",
    "print('std:  '  + str(total_std))"
   ]
  },
  {
   "cell_type": "code",
   "execution_count": 12,
   "metadata": {},
   "outputs": [
    {
     "name": "stdout",
     "output_type": "stream",
     "text": [
      "Mean: 0.1293376386165619\n",
      "Standard Deviation: 0.3355732858181\n"
     ]
    }
   ],
   "source": [
    "import torch\n",
    "\n",
    "tensor_list = []\n",
    "\n",
    "for i, (images, labels) in enumerate(train_loader):\n",
    "    threshold_value = threshold_otsu(labels.squeeze(0).squeeze(0).cpu().numpy())\n",
    "    binary_mask = (np.array(labels) >= threshold_value).astype(np.float32)\n",
    "    binary_mask = torch.from_numpy(binary_mask)\n",
    "    \n",
    "    tensor_list.append(binary_mask)\n",
    "\n",
    "# Concatenate the tensors in the list to form one big tensor\n",
    "big_tensor = torch.cat(tensor_list)\n",
    "\n",
    "# Compute the mean and standard deviation from the whole tensor\n",
    "total_mean_mask = torch.mean(big_tensor.float())\n",
    "total_std_mask = torch.std(big_tensor.float())\n",
    "\n",
    "print(\"Mean:\", total_mean_mask.item())\n",
    "print(\"Standard Deviation:\", total_std_mask.item())"
   ]
  },
  {
   "cell_type": "code",
   "execution_count": 13,
   "metadata": {},
   "outputs": [],
   "source": [
    "# Redefine Transforms\n",
    "transform = transforms.Compose([\n",
    "    transforms.ToTensor(),\n",
    "    transforms.Normalize(mean=total_mean,  # Normalization of real images\n",
    "                            std=total_std)\n",
    "])\n",
    "\n",
    "transform_mask = transforms.Compose([\n",
    "    transforms.ToTensor(),\n",
    "    # transforms.Normalize(mean=total_mean_mask,  # Normalization of masks\n",
    "    #                         std=total_std_mask)\n",
    "])"
   ]
  },
  {
   "cell_type": "code",
   "execution_count": 15,
   "metadata": {},
   "outputs": [],
   "source": [
    "data = CustomDataset('15_06/102_Real/','15_06/102_Mask/', transform=transform, transform_mask=transform_mask)\n",
    "train_data, val_data = train_test_split(data, test_size=0.2, random_state=42)\n",
    "\n",
    "batch_size = 8\n",
    "train_loader = DataLoader(train_data, batch_size=batch_size, shuffle=True)\n",
    "val_loader = DataLoader(val_data, batch_size=batch_size, shuffle=False)"
   ]
  },
  {
   "cell_type": "code",
   "execution_count": 16,
   "metadata": {},
   "outputs": [
    {
     "data": {
      "text/plain": [
       "<matplotlib.image.AxesImage at 0x236be5e03a0>"
      ]
     },
     "execution_count": 16,
     "metadata": {},
     "output_type": "execute_result"
    },
    {
     "data": {
      "image/png": "[encoded data removed]",
      "text/plain": [
       "<Figure size 640x480 with 1 Axes>"
      ]
     },
     "metadata": {},
     "output_type": "display_data"
    }
   ],
   "source": [
    "# Check that data is truly binarized\n",
    "images, labels = data[0]\n",
    "threshold_value = threshold_otsu(labels.squeeze(0).squeeze(0).cpu().numpy())\n",
    "binary_mask = (np.array(labels) >= threshold_value).astype(np.float32)\n",
    "binary_mask = torch.from_numpy(binary_mask)\n",
    "plt.imshow(binary_mask.squeeze(0))"
   ]
  },
  {
   "cell_type": "code",
   "execution_count": 17,
   "metadata": {},
   "outputs": [
    {
     "name": "stdout",
     "output_type": "stream",
     "text": [
      "Epoch [1/10], Batch [1/11], Loss: 0.1232\n",
      "Epoch [1/10], Batch [2/11], Loss: 0.1146\n",
      "Epoch [1/10], Batch [3/11], Loss: 249.6318\n",
      "Epoch [1/10], Batch [4/11], Loss: 0.1131\n",
      "Epoch [1/10], Batch [5/11], Loss: 0.1161\n",
      "Epoch [1/10], Batch [6/11], Loss: 0.1171\n",
      "Epoch [1/10], Batch [7/11], Loss: 0.1174\n",
      "Epoch [1/10], Batch [8/11], Loss: 0.1178\n",
      "Epoch [1/10], Batch [9/11], Loss: 0.1174\n",
      "Epoch [1/10], Batch [10/11], Loss: 0.1181\n",
      "Epoch [1/10], Batch [11/11], Loss: 0.1159\n",
      "Epoch [1/10] , Val Loss: 0.1163\n",
      "Epoch [2/10], Batch [1/11], Loss: 0.1160\n",
      "Epoch [2/10], Batch [2/11], Loss: 0.1145\n",
      "Epoch [2/10], Batch [3/11], Loss: 0.1229\n",
      "Epoch [2/10], Batch [4/11], Loss: 0.1134\n",
      "Epoch [2/10], Batch [5/11], Loss: 0.1143\n",
      "Epoch [2/10], Batch [6/11], Loss: 0.1158\n",
      "Epoch [2/10], Batch [7/11], Loss: 0.1162\n",
      "Epoch [2/10], Batch [8/11], Loss: 0.1168\n",
      "Epoch [2/10], Batch [9/11], Loss: 0.1160\n",
      "Epoch [2/10], Batch [10/11], Loss: 0.1161\n",
      "Epoch [2/10], Batch [11/11], Loss: 0.1147\n",
      "Epoch [2/10] , Val Loss: 0.1157\n",
      "Epoch [3/10], Batch [1/11], Loss: 0.1158\n",
      "Epoch [3/10], Batch [2/11], Loss: 0.1152\n",
      "Epoch [3/10], Batch [3/11], Loss: 0.1147\n",
      "Epoch [3/10], Batch [4/11], Loss: 0.1139\n",
      "Epoch [3/10], Batch [5/11], Loss: 0.1133\n",
      "Epoch [3/10], Batch [6/11], Loss: 0.1133\n",
      "Epoch [3/10], Batch [7/11], Loss: 0.1136\n",
      "Epoch [3/10], Batch [8/11], Loss: 0.1130\n",
      "Epoch [3/10], Batch [9/11], Loss: 0.1131\n",
      "Epoch [3/10], Batch [10/11], Loss: 0.1124\n",
      "Epoch [3/10], Batch [11/11], Loss: 0.1109\n",
      "Epoch [3/10] , Val Loss: 0.1119\n",
      "Epoch [4/10], Batch [1/11], Loss: 0.1121\n",
      "Epoch [4/10], Batch [2/11], Loss: 0.1130\n",
      "Epoch [4/10], Batch [3/11], Loss: 0.1107\n",
      "Epoch [4/10], Batch [4/11], Loss: 0.1095\n",
      "Epoch [4/10], Batch [5/11], Loss: 0.1108\n",
      "Epoch [4/10], Batch [6/11], Loss: 0.1129\n",
      "Epoch [4/10], Batch [7/11], Loss: 0.1128\n",
      "Epoch [4/10], Batch [8/11], Loss: 0.1115\n",
      "Epoch [4/10], Batch [9/11], Loss: 0.1101\n",
      "Epoch [4/10], Batch [10/11], Loss: 0.1112\n",
      "Epoch [4/10], Batch [11/11], Loss: 0.1110\n",
      "Epoch [4/10] , Val Loss: 0.1101\n",
      "Epoch [5/10], Batch [1/11], Loss: 0.1098\n",
      "Epoch [5/10], Batch [2/11], Loss: 0.1100\n",
      "Epoch [5/10], Batch [3/11], Loss: 0.1111\n",
      "Epoch [5/10], Batch [4/11], Loss: 0.1106\n",
      "Epoch [5/10], Batch [5/11], Loss: 0.1094\n",
      "Epoch [5/10], Batch [6/11], Loss: 0.1090\n",
      "Epoch [5/10], Batch [7/11], Loss: 0.1094\n",
      "Epoch [5/10], Batch [8/11], Loss: 0.1094\n",
      "Epoch [5/10], Batch [9/11], Loss: 0.1082\n",
      "Epoch [5/10], Batch [10/11], Loss: 0.1084\n",
      "Epoch [5/10], Batch [11/11], Loss: 0.1066\n",
      "Epoch [5/10] , Val Loss: 0.1075\n"
     ]
    },
    {
     "ename": "KeyboardInterrupt",
     "evalue": "",
     "output_type": "error",
     "traceback": [
      "\u001b[1;31m---------------------------------------------------------------------------\u001b[0m",
      "\u001b[1;31mKeyboardInterrupt\u001b[0m                         Traceback (most recent call last)",
      "Cell \u001b[1;32mIn[17], line 16\u001b[0m\n\u001b[0;32m     13\u001b[0m optimizer\u001b[39m.\u001b[39mzero_grad()\n\u001b[0;32m     15\u001b[0m \u001b[39m# Forward pass\u001b[39;00m\n\u001b[1;32m---> 16\u001b[0m outputs \u001b[39m=\u001b[39m model(images)\n\u001b[0;32m     18\u001b[0m threshold_value \u001b[39m=\u001b[39m threshold_otsu(labels\u001b[39m.\u001b[39msqueeze(\u001b[39m0\u001b[39m)\u001b[39m.\u001b[39msqueeze(\u001b[39m0\u001b[39m)\u001b[39m.\u001b[39mcpu()\u001b[39m.\u001b[39mnumpy())\n\u001b[0;32m     19\u001b[0m binary_mask \u001b[39m=\u001b[39m (np\u001b[39m.\u001b[39marray(labels) \u001b[39m>\u001b[39m\u001b[39m=\u001b[39m threshold_value)\u001b[39m.\u001b[39mastype(np\u001b[39m.\u001b[39mfloat32)\n",
      "File \u001b[1;32mc:\\Users\\20193709\\AppData\\Local\\anaconda3\\envs\\ml4sc\\lib\\site-packages\\torch\\nn\\modules\\module.py:1130\u001b[0m, in \u001b[0;36mModule._call_impl\u001b[1;34m(self, *input, **kwargs)\u001b[0m\n\u001b[0;32m   1126\u001b[0m \u001b[39m# If we don't have any hooks, we want to skip the rest of the logic in\u001b[39;00m\n\u001b[0;32m   1127\u001b[0m \u001b[39m# this function, and just call forward.\u001b[39;00m\n\u001b[0;32m   1128\u001b[0m \u001b[39mif\u001b[39;00m \u001b[39mnot\u001b[39;00m (\u001b[39mself\u001b[39m\u001b[39m.\u001b[39m_backward_hooks \u001b[39mor\u001b[39;00m \u001b[39mself\u001b[39m\u001b[39m.\u001b[39m_forward_hooks \u001b[39mor\u001b[39;00m \u001b[39mself\u001b[39m\u001b[39m.\u001b[39m_forward_pre_hooks \u001b[39mor\u001b[39;00m _global_backward_hooks\n\u001b[0;32m   1129\u001b[0m         \u001b[39mor\u001b[39;00m _global_forward_hooks \u001b[39mor\u001b[39;00m _global_forward_pre_hooks):\n\u001b[1;32m-> 1130\u001b[0m     \u001b[39mreturn\u001b[39;00m forward_call(\u001b[39m*\u001b[39;49m\u001b[39minput\u001b[39;49m, \u001b[39m*\u001b[39;49m\u001b[39m*\u001b[39;49mkwargs)\n\u001b[0;32m   1131\u001b[0m \u001b[39m# Do not call functions when jit is used\u001b[39;00m\n\u001b[0;32m   1132\u001b[0m full_backward_hooks, non_full_backward_hooks \u001b[39m=\u001b[39m [], []\n",
      "Cell \u001b[1;32mIn[4], line 68\u001b[0m, in \u001b[0;36mUNet.forward\u001b[1;34m(self, x)\u001b[0m\n\u001b[0;32m     66\u001b[0m \u001b[39m# Bottleneck\u001b[39;00m\n\u001b[0;32m     67\u001b[0m bottleneck \u001b[39m=\u001b[39m nn\u001b[39m.\u001b[39mReLU()(\u001b[39mself\u001b[39m\u001b[39m.\u001b[39mbottleneck_conv1(enc8_pool))\n\u001b[1;32m---> 68\u001b[0m bottleneck \u001b[39m=\u001b[39m nn\u001b[39m.\u001b[39mReLU()(\u001b[39mself\u001b[39;49m\u001b[39m.\u001b[39;49mbottleneck_conv2(bottleneck))\n\u001b[0;32m     70\u001b[0m \u001b[39m# Decoder (upsampling path)\u001b[39;00m\n\u001b[0;32m     71\u001b[0m dec1 \u001b[39m=\u001b[39m \u001b[39mself\u001b[39m\u001b[39m.\u001b[39mdec_upsample1(bottleneck)\n",
      "File \u001b[1;32mc:\\Users\\20193709\\AppData\\Local\\anaconda3\\envs\\ml4sc\\lib\\site-packages\\torch\\nn\\modules\\module.py:1130\u001b[0m, in \u001b[0;36mModule._call_impl\u001b[1;34m(self, *input, **kwargs)\u001b[0m\n\u001b[0;32m   1126\u001b[0m \u001b[39m# If we don't have any hooks, we want to skip the rest of the logic in\u001b[39;00m\n\u001b[0;32m   1127\u001b[0m \u001b[39m# this function, and just call forward.\u001b[39;00m\n\u001b[0;32m   1128\u001b[0m \u001b[39mif\u001b[39;00m \u001b[39mnot\u001b[39;00m (\u001b[39mself\u001b[39m\u001b[39m.\u001b[39m_backward_hooks \u001b[39mor\u001b[39;00m \u001b[39mself\u001b[39m\u001b[39m.\u001b[39m_forward_hooks \u001b[39mor\u001b[39;00m \u001b[39mself\u001b[39m\u001b[39m.\u001b[39m_forward_pre_hooks \u001b[39mor\u001b[39;00m _global_backward_hooks\n\u001b[0;32m   1129\u001b[0m         \u001b[39mor\u001b[39;00m _global_forward_hooks \u001b[39mor\u001b[39;00m _global_forward_pre_hooks):\n\u001b[1;32m-> 1130\u001b[0m     \u001b[39mreturn\u001b[39;00m forward_call(\u001b[39m*\u001b[39;49m\u001b[39minput\u001b[39;49m, \u001b[39m*\u001b[39;49m\u001b[39m*\u001b[39;49mkwargs)\n\u001b[0;32m   1131\u001b[0m \u001b[39m# Do not call functions when jit is used\u001b[39;00m\n\u001b[0;32m   1132\u001b[0m full_backward_hooks, non_full_backward_hooks \u001b[39m=\u001b[39m [], []\n",
      "File \u001b[1;32mc:\\Users\\20193709\\AppData\\Local\\anaconda3\\envs\\ml4sc\\lib\\site-packages\\torch\\nn\\modules\\conv.py:457\u001b[0m, in \u001b[0;36mConv2d.forward\u001b[1;34m(self, input)\u001b[0m\n\u001b[0;32m    456\u001b[0m \u001b[39mdef\u001b[39;00m \u001b[39mforward\u001b[39m(\u001b[39mself\u001b[39m, \u001b[39minput\u001b[39m: Tensor) \u001b[39m-\u001b[39m\u001b[39m>\u001b[39m Tensor:\n\u001b[1;32m--> 457\u001b[0m     \u001b[39mreturn\u001b[39;00m \u001b[39mself\u001b[39;49m\u001b[39m.\u001b[39;49m_conv_forward(\u001b[39minput\u001b[39;49m, \u001b[39mself\u001b[39;49m\u001b[39m.\u001b[39;49mweight, \u001b[39mself\u001b[39;49m\u001b[39m.\u001b[39;49mbias)\n",
      "File \u001b[1;32mc:\\Users\\20193709\\AppData\\Local\\anaconda3\\envs\\ml4sc\\lib\\site-packages\\torch\\nn\\modules\\conv.py:453\u001b[0m, in \u001b[0;36mConv2d._conv_forward\u001b[1;34m(self, input, weight, bias)\u001b[0m\n\u001b[0;32m    449\u001b[0m \u001b[39mif\u001b[39;00m \u001b[39mself\u001b[39m\u001b[39m.\u001b[39mpadding_mode \u001b[39m!=\u001b[39m \u001b[39m'\u001b[39m\u001b[39mzeros\u001b[39m\u001b[39m'\u001b[39m:\n\u001b[0;32m    450\u001b[0m     \u001b[39mreturn\u001b[39;00m F\u001b[39m.\u001b[39mconv2d(F\u001b[39m.\u001b[39mpad(\u001b[39minput\u001b[39m, \u001b[39mself\u001b[39m\u001b[39m.\u001b[39m_reversed_padding_repeated_twice, mode\u001b[39m=\u001b[39m\u001b[39mself\u001b[39m\u001b[39m.\u001b[39mpadding_mode),\n\u001b[0;32m    451\u001b[0m                     weight, bias, \u001b[39mself\u001b[39m\u001b[39m.\u001b[39mstride,\n\u001b[0;32m    452\u001b[0m                     _pair(\u001b[39m0\u001b[39m), \u001b[39mself\u001b[39m\u001b[39m.\u001b[39mdilation, \u001b[39mself\u001b[39m\u001b[39m.\u001b[39mgroups)\n\u001b[1;32m--> 453\u001b[0m \u001b[39mreturn\u001b[39;00m F\u001b[39m.\u001b[39;49mconv2d(\u001b[39minput\u001b[39;49m, weight, bias, \u001b[39mself\u001b[39;49m\u001b[39m.\u001b[39;49mstride,\n\u001b[0;32m    454\u001b[0m                 \u001b[39mself\u001b[39;49m\u001b[39m.\u001b[39;49mpadding, \u001b[39mself\u001b[39;49m\u001b[39m.\u001b[39;49mdilation, \u001b[39mself\u001b[39;49m\u001b[39m.\u001b[39;49mgroups)\n",
      "\u001b[1;31mKeyboardInterrupt\u001b[0m: "
     ]
    }
   ],
   "source": [
    "num_epochs = 10\n",
    "train_loss_list = []\n",
    "valid_loss_list = []\n",
    "for epoch in range(num_epochs):\n",
    "    train_loss = 0.0\n",
    "    valid_loss = 0.0\n",
    "    # Set the model to training mode\n",
    "    model.train()\n",
    "    \n",
    "    # Iterate over the training data\n",
    "    for i, (images, labels) in enumerate(train_loader):\n",
    "        # Zero the parameter gradients\n",
    "        optimizer.zero_grad()\n",
    "        \n",
    "        # Forward pass\n",
    "        outputs = model(images)\n",
    "\n",
    "        threshold_value = threshold_otsu(labels.squeeze(0).squeeze(0).cpu().numpy())\n",
    "        binary_mask = (np.array(labels) >= threshold_value).astype(np.float32)\n",
    "        binary_mask = torch.from_numpy(binary_mask)\n",
    "        \n",
    "        # Compute the loss\n",
    "        loss = criterion(outputs, binary_mask)\n",
    "        \n",
    "        # Backward pass\n",
    "        loss.backward()\n",
    "        \n",
    "        # Update the parameters\n",
    "        optimizer.step()\n",
    "        \n",
    "        train_loss += loss.item()*images.size(0)\n",
    "        # Print the loss every 10 batches\n",
    "        if i % 1 == 0:\n",
    "            print(f'Epoch [{epoch+1}/{num_epochs}], Batch [{i+1}/{len(train_loader)}], Loss: {loss.item():.4f}')\n",
    "    \n",
    "    # Set the model to evaluation mode\n",
    "    model.eval()\n",
    "    \n",
    "    # Compute the validation loss\n",
    "    val_loss = 0.0\n",
    "    with torch.no_grad():\n",
    "        for images, labels in val_loader:\n",
    "            # Forward pass\n",
    "            outputs = model(images)\n",
    "\n",
    "            threshold_value = threshold_otsu(labels.squeeze(0).squeeze(0).cpu().numpy())\n",
    "            binary_mask = (np.array(labels) >= threshold_value).astype(np.float32)\n",
    "            binary_mask = torch.from_numpy(binary_mask)\n",
    "            # Compute the loss\n",
    "            loss = criterion(outputs, binary_mask)\n",
    "            \n",
    "            valid_loss += loss.item()*images.size(0)\n",
    "            # Accumulate the loss over all batches\n",
    "            val_loss += loss.item() * images.size(0)\n",
    "    # Compute the average validation loss\n",
    "    val_loss /= len(val_data)\n",
    "      # calculate average losses\n",
    "    train_loss = train_loss/len(train_loader.dataset)\n",
    "    valid_loss = valid_loss/len(val_loader.dataset)\n",
    "    train_loss_list.append(train_loss)\n",
    "    valid_loss_list.append(valid_loss)\n",
    "    print(f'Epoch [{epoch+1}/{num_epochs}] , Val Loss: {val_loss:.4f}')"
   ]
  },
  {
   "cell_type": "code",
   "execution_count": null,
   "metadata": {},
   "outputs": [],
   "source": [
    "raw_data = {'Train_loss': [train_loss_list],\n",
    "            'Valid_Loss': [valid_loss_list]}\n",
    "\n",
    "df = pd.DataFrame(raw_data, columns = ['Train_loss', 'Valid_Loss'])\n",
    "# Always check/change name for new model\n",
    "df.to_csv('Losses_binary_102.csv', index=True)"
   ]
  },
  {
   "cell_type": "code",
   "execution_count": null,
   "metadata": {},
   "outputs": [],
   "source": [
    "# plt.figure(figsize=(10,10))\n",
    "plt.plot(train_loss_list,  marker='o', label=\"Training Loss\")\n",
    "plt.plot(valid_loss_list,  marker='o', label=\"Validation Loss\")\n",
    "plt.ylabel('loss')\n",
    "plt.yscale('log')\n",
    "plt.legend()\n",
    "plt.show()"
   ]
  },
  {
   "cell_type": "code",
   "execution_count": null,
   "metadata": {},
   "outputs": [],
   "source": [
    "torch.save(model.state_dict(), 'Unet_16_06_binary_test.pt')"
   ]
  },
  {
   "cell_type": "code",
   "execution_count": null,
   "metadata": {},
   "outputs": [],
   "source": [
    "# Load model\n",
    "model = UNet()\n",
    "model.load_state_dict(torch.load('Unet_13_06_512Test.pt'))"
   ]
  },
  {
   "cell_type": "code",
   "execution_count": null,
   "metadata": {},
   "outputs": [],
   "source": [
    "# Testing model on given outptut\n",
    "# image_path = \"Droplet_XY_val/drop_s40_v5_r0.5_str2_pos2.png\"drop_s40_v5_r0.5_str5_pos11.png\n",
    "image_path = \"13_06/512_Real/drop_s32_v5_r0.5_str6_pos0_cam1.png\"\n",
    "# image_path = \"syringe-needle-with-droplet-close-up-stuart-minzey.jpg\"\n",
    "image = Image.open(image_path)\n",
    "image = image.convert('RGB')\n",
    "# image = image.resize((256,256))\n",
    "img = transform(image)\n",
    "img = img.unsqueeze(0)\n",
    "img.size()\n",
    "\n",
    "image_mask_path = \"13_06/512_Mask/drop_s32_v5_r0.5_str6_pos0_cam1.png\"\n",
    "image_mask = Image.open(image_mask_path)\n",
    "image_mask = image_mask.convert('RGB')\n",
    "img_mask = transform_mask(image_mask)\n",
    "img_mask = img_mask.unsqueeze(0)\n",
    "img_mask.size()"
   ]
  },
  {
   "cell_type": "code",
   "execution_count": null,
   "metadata": {},
   "outputs": [],
   "source": []
  },
  {
   "cell_type": "code",
   "execution_count": null,
   "metadata": {},
   "outputs": [],
   "source": [
    "import numpy as np\n",
    "import matplotlib.pyplot as plt\n",
    "\n",
    "# Assuming you have the trained model and a test image\n",
    "\n",
    "# Set the model to evaluation mode\n",
    "model.eval()\n",
    "\n",
    "# Perform forward pass on the test image\n",
    "with torch.no_grad():\n",
    "    output = model(img)  # Assuming you have the test image as a tensor\n",
    "\n",
    "# Convert the output tensor to a numpy array and squeeze the batch and channel dimensions\n",
    "output_np = output.squeeze(0).squeeze(0).cpu().numpy()*255\n",
    "\n",
    "# Apply a threshold to convert the output to a binary mask\n",
    "# threshold = 0.5  # Adjust the threshold value as needed\n",
    "mask = (output_np.astype(np.uint8)).T\n",
    "# mask = mask[0,:,:]\n",
    "# Plot the original test image\n",
    "plt.subplot(1, 3, 1)\n",
    "plt.imshow(image)\n",
    "plt.title('Original Image')\n",
    "# Plot the original mask\n",
    "plt.subplot(1, 3, 2)\n",
    "plt.imshow(image_mask)\n",
    "plt.title('Original Mask')\n",
    "# Plot the generated mask\n",
    "plt.subplot(1, 3, 3)\n",
    "plt.imshow(mask)\n",
    "plt.title('Generated Mask')\n",
    "\n",
    "plt.show()"
   ]
  }
 ],
 "metadata": {
  "kernelspec": {
   "display_name": "ml4sc",
   "language": "python",
   "name": "python3"
  },
  "language_info": {
   "codemirror_mode": {
    "name": "ipython",
    "version": 3
   },
   "file_extension": ".py",
   "mimetype": "text/x-python",
   "name": "python",
   "nbconvert_exporter": "python",
   "pygments_lexer": "ipython3",
   "version": "3.8.1"
  },
  "orig_nbformat": 4
 },
 "nbformat": 4,
 "nbformat_minor": 2
}
