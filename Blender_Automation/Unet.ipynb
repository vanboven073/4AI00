{
 "cells": [
  {
   "cell_type": "code",
   "execution_count": 5,
   "metadata": {},
   "outputs": [],
   "source": [
    "# Imports\n",
    "import torch\n",
    "import torch.nn as nn\n",
    "import torch.optim as optim\n",
    "import torchvision.transforms as transforms\n",
    "from torch.utils.data import Dataset, DataLoader\n",
    "import os\n",
    "from PIL import Image\n",
    "import numpy as np\n",
    "import matplotlib.pyplot as plt"
   ]
  },
  {
   "cell_type": "code",
   "execution_count": 6,
   "metadata": {},
   "outputs": [],
   "source": [
    "def get_default_device():\n",
    "    \"\"\"Pick GPU if available, else CPU\"\"\"\n",
    "    if torch.cuda.is_available():\n",
    "        return torch.device('cuda')\n",
    "    else:\n",
    "        return torch.device('cpu')"
   ]
  },
  {
   "cell_type": "code",
   "execution_count": 7,
   "metadata": {},
   "outputs": [
    {
     "data": {
      "text/plain": [
       "device(type='cpu')"
      ]
     },
     "execution_count": 7,
     "metadata": {},
     "output_type": "execute_result"
    }
   ],
   "source": [
    "device = get_default_device()\n",
    "device"
   ]
  },
  {
   "cell_type": "code",
   "execution_count": 2,
   "metadata": {},
   "outputs": [],
   "source": [
    "# Define the U-Net architecture for binary segmentation\n",
    "class UNet(nn.Module):\n",
    "    def __init__(self):\n",
    "        super(UNet, self).__init__()\n",
    "\n",
    "        # Encoder (downsampling path)\n",
    "        self.enc_conv1 = nn.Conv2d(3, 64, kernel_size=3, padding=1)\n",
    "        self.enc_conv2 = nn.Conv2d(64, 64, kernel_size=3, padding=1)\n",
    "        self.enc_pool1 = nn.MaxPool2d(kernel_size=2, stride=2)\n",
    "\n",
    "        self.enc_conv3 = nn.Conv2d(64, 128, kernel_size=3, padding=1)\n",
    "        self.enc_conv4 = nn.Conv2d(128, 128, kernel_size=3, padding=1)\n",
    "        self.enc_pool2 = nn.MaxPool2d(kernel_size=2, stride=2)\n",
    "\n",
    "        self.enc_conv5 = nn.Conv2d(128, 256, kernel_size=3, padding=1)\n",
    "        self.enc_conv6 = nn.Conv2d(256, 256, kernel_size=3, padding=1)\n",
    "        self.enc_pool3 = nn.MaxPool2d(kernel_size=2, stride=2)\n",
    "\n",
    "        self.enc_conv7 = nn.Conv2d(256, 512, kernel_size=3, padding=1)\n",
    "        self.enc_conv8 = nn.Conv2d(512, 512, kernel_size=3, padding=1)\n",
    "        self.enc_pool4 = nn.MaxPool2d(kernel_size=2, stride=2)\n",
    "\n",
    "        # Bottleneck\n",
    "        self.bottleneck_conv1 = nn.Conv2d(512, 1024, kernel_size=3, padding=1)\n",
    "        self.bottleneck_conv2 = nn.Conv2d(1024, 1024, kernel_size=3, padding=1)\n",
    "\n",
    "        # Decoder (upsampling path)\n",
    "        self.dec_upsample1 = nn.Upsample(scale_factor=2, mode='bilinear', align_corners=False)\n",
    "        self.dec_conv1 = nn.Conv2d(1024 + 512, 512, kernel_size=3, padding=1)\n",
    "        self.dec_conv2 = nn.Conv2d(512, 512, kernel_size=3, padding=1)\n",
    "\n",
    "        self.dec_upsample2 = nn.Upsample(scale_factor=2, mode='bilinear', align_corners=False)\n",
    "        self.dec_conv3 = nn.Conv2d(512 + 256, 256, kernel_size=3, padding=1)\n",
    "        self.dec_conv4 = nn.Conv2d(256, 256, kernel_size=3, padding=1)\n",
    "\n",
    "        self.dec_upsample3 = nn.Upsample(scale_factor=2, mode='bilinear', align_corners=False)\n",
    "        self.dec_conv5 = nn.Conv2d(256 + 128, 128, kernel_size=3, padding=1)\n",
    "        self.dec_conv6 = nn.Conv2d(128, 128, kernel_size=3, padding=1)\n",
    "\n",
    "        self.dec_upsample4 = nn.Upsample(scale_factor=2, mode='bilinear', align_corners=False)\n",
    "        self.dec_conv7 = nn.Conv2d(128 + 64, 64, kernel_size=3, padding=1)\n",
    "        self.dec_conv8 = nn.Conv2d(64, 64, kernel_size=3, padding=1)\n",
    "\n",
    "          # Output\n",
    "        self.output_conv = nn.Conv2d(64, 1, kernel_size=1)  # 1x1 convolution for binary segmentation\n",
    "\n",
    "\n",
    "    def forward(self, x):\n",
    "        # Encoder (downsampling path)\n",
    "        enc1 = nn.ReLU()(self.enc_conv1(x))\n",
    "        enc2 = nn.ReLU()(self.enc_conv2(enc1))\n",
    "        enc2_pool = self.enc_pool1(enc2)\n",
    "\n",
    "        enc3 = nn.ReLU()(self.enc_conv3(enc2_pool))\n",
    "        enc4 = nn.ReLU()(self.enc_conv4(enc3))\n",
    "        enc4_pool = self.enc_pool2(enc4)\n",
    "\n",
    "        enc5 = nn.ReLU()(self.enc_conv5(enc4_pool))\n",
    "        enc6 = nn.ReLU()(self.enc_conv6(enc5))\n",
    "        enc6_pool = self.enc_pool3(enc6)\n",
    "\n",
    "        enc7 = nn.ReLU()(self.enc_conv7(enc6_pool))\n",
    "        enc8 = nn.ReLU()(self.enc_conv8(enc7))\n",
    "        enc8_pool = self.enc_pool4(enc8)\n",
    "\n",
    "        # Bottleneck\n",
    "        bottleneck = nn.ReLU()(self.bottleneck_conv1(enc8_pool))\n",
    "        bottleneck = nn.ReLU()(self.bottleneck_conv2(bottleneck))\n",
    "\n",
    "        # Decoder (upsampling path)\n",
    "        dec1 = self.dec_upsample1(bottleneck)\n",
    "        dec1 = torch.cat([dec1, enc8], dim=1)\n",
    "        dec1 = nn.ReLU()(self.dec_conv1(dec1))\n",
    "        dec1 = nn.ReLU()(self.dec_conv2(dec1))\n",
    "\n",
    "        dec2 = self.dec_upsample2(dec1)\n",
    "        dec2 = torch.cat([dec2, enc6], dim=1)\n",
    "        dec2 = nn.ReLU()(self.dec_conv3(dec2))\n",
    "        dec2 = nn.ReLU()(self.dec_conv4(dec2))\n",
    "\n",
    "        dec3 = self.dec_upsample3(dec2)\n",
    "        dec3 = torch.cat([dec3, enc4], dim=1)\n",
    "        dec3 = nn.ReLU()(self.dec_conv5(dec3))\n",
    "        dec3 = nn.ReLU()(self.dec_conv6(dec3))\n",
    "\n",
    "        dec4 = self.dec_upsample4(dec3)\n",
    "        dec4 = torch.cat([dec4, enc2], dim=1)\n",
    "        dec4 = nn.ReLU()(self.dec_conv7(dec4))\n",
    "        dec4 = nn.ReLU()(self.dec_conv8(dec4))\n",
    "\n",
    "        # Output\n",
    "        output = self.output_conv(dec4)\n",
    "        return output   \n",
    "    \n",
    "    # Create an instance of the FCN model\n",
    "model = UNet()"
   ]
  },
  {
   "cell_type": "code",
   "execution_count": 3,
   "metadata": {},
   "outputs": [],
   "source": [
    "# Define criterion and optimizer\n",
    "criterion = nn.MSELoss()  # nn.CrossEntropyLoss()\n",
    "optimizer = optim.Adam(model.parameters(), lr=0.001)"
   ]
  },
  {
   "cell_type": "code",
   "execution_count": 11,
   "metadata": {},
   "outputs": [],
   "source": [
    "transform = transforms.Compose([\n",
    "    # transforms.Resize((256, 256)),  # Resize the image to a specific size\n",
    "    transforms.ToTensor(),\n",
    "    # transforms.Normalize(mean=[0,0,0],  # Example normalization values for RGB images\n",
    "    #                         std=[1,1,1])\n",
    "    # transforms.Normalize(mean=[0.8463, 0.8872, 0.9100],  # Simple\n",
    "    #                         std=[0.1631, 0.0693, 0.0253])\n",
    "    # transforms.Normalize(mean=[0.4537, 0.4567, 0.3631],  # Photorealistic\n",
    "    #                         std=[0.2713, 0.2724, 0.3004])\n",
    "    transforms.Normalize(mean=[0.8451, 0.8839, 0.9087],  # Simple, small angle\n",
    "                            std=[0.1665, 0.0732, 0.0229])\n",
    "])\n",
    "# Mask does not need to be normalized in this way as it does not have 3 channels anymore\n",
    "transform_mask = transforms.Compose([\n",
    "    # transforms.Resize((256, 256)),  # Resize the image to a specific size\n",
    "    transforms.ToTensor(),\n",
    "    # transforms.Normalize(mean=[0.485, 0.456, 0.406],  # Example normalization values for RGB images\n",
    "    #                         std=[0.229, 0.224, 0.225])\n",
    "])"
   ]
  },
  {
   "cell_type": "code",
   "execution_count": 12,
   "metadata": {},
   "outputs": [],
   "source": [
    "# In this example, the CustomDataset takes in two lists of file paths: image_list and mask_list, representing the paths to the images and their corresponding masks, \n",
    "# respectively. It also takes in an optional transform argument to apply any necessary transformations to the images and masks.\n",
    "class CustomDataset(Dataset):\n",
    "    def __init__(self, image_list, mask_list, transform=None, transform_mask=None):\n",
    "        # self.image_list = image_list\n",
    "        # self.mask_list = mask_list\n",
    "        self.image_list = [os.path.join(image_list, f) for f in os.listdir(image_list)]\n",
    "        self.mask_list = [os.path.join(mask_list, f) for f in os.listdir(mask_list)]\n",
    "        self.transform = transform\n",
    "        self.transform_mask = transform_mask\n",
    "\n",
    "    def __len__(self):\n",
    "        return len(self.image_list)\n",
    "\n",
    "    def __getitem__(self, idx):\n",
    "        image_path = self.image_list[idx]\n",
    "        mask_path = self.mask_list[idx]\n",
    "        image = Image.open(image_path)\n",
    "        image = image.convert('RGB')\n",
    "        mask = Image.open(mask_path)\n",
    "        mask = mask.convert('L')\n",
    "\n",
    "        if self.transform:\n",
    "            image = self.transform(image)\n",
    "            # mask = self.transform_mask(mask)\n",
    "        if self.transform_mask:\n",
    "            # image = self.transform(image)\n",
    "            mask = self.transform_mask(mask)\n",
    "\n",
    "\n",
    "        return image, mask"
   ]
  },
  {
   "cell_type": "code",
   "execution_count": 13,
   "metadata": {},
   "outputs": [],
   "source": [
    "# Load the \n",
    "\n",
    "# all_data = CustomDataset('Droplet_Train/','Droplet_Mask_Train/', transform=transform)\n",
    "# train_data, val_data = torch.utils.data.random_split(all_data, [180, 20])\n",
    "train_data = CustomDataset('Data/Angle_test/','Data/Angle_test_mask/', transform=transform, transform_mask=transform_mask)\n",
    "val_data = CustomDataset('Data/Angle_val/','Data/Angle_mask_val/', transform=transform, transform_mask=transform_mask)\n",
    "\n"
   ]
  },
  {
   "cell_type": "code",
   "execution_count": 14,
   "metadata": {},
   "outputs": [],
   "source": [
    "# Define the data loader\n",
    "batch_size = 32\n",
    "train_loader = DataLoader(train_data, batch_size=batch_size, shuffle=True)\n",
    "val_loader = DataLoader(val_data, batch_size=batch_size, shuffle=False)\n"
   ]
  },
  {
   "cell_type": "code",
   "execution_count": 10,
   "metadata": {},
   "outputs": [
    {
     "name": "stdout",
     "output_type": "stream",
     "text": [
      "mean: tensor([0.8451, 0.8839, 0.9087])\n",
      "std:  tensor([0.1665, 0.0732, 0.0229])\n"
     ]
    }
   ],
   "source": [
    "# from tqdm import tqdm \n",
    "# Compute mean and std\n",
    "\n",
    "# from tqdm import tqdm\n",
    "\n",
    "# placeholders\n",
    "psum    = torch.tensor([0.0, 0.0, 0.0])\n",
    "psum_sq = torch.tensor([0.0, 0.0, 0.0])\n",
    "\n",
    "# loop through images\n",
    "# for inputs in train_data:#DataLoader(train_data, batch_size=batch_size, shuffle=True):\n",
    "for i, (images, labels) in enumerate(train_loader):\n",
    "    psum    += images.sum(axis        = [0, 2, 3])\n",
    "    psum_sq += (images ** 2).sum(axis = [0, 2, 3])\n",
    "    \n",
    "\n",
    "# Final Calculation\n",
    "# pixel count\n",
    "image_size = 256\n",
    "count = 942 * image_size * image_size\n",
    "\n",
    "# mean and std\n",
    "total_mean = psum / count\n",
    "total_var  = (psum_sq / count) - (total_mean ** 2)\n",
    "total_std  = torch.sqrt(total_var)\n",
    "\n",
    "# output\n",
    "print('mean: '  + str(total_mean))\n",
    "print('std:  '  + str(total_std))"
   ]
  },
  {
   "cell_type": "code",
   "execution_count": 16,
   "metadata": {},
   "outputs": [
    {
     "name": "stdout",
     "output_type": "stream",
     "text": [
      "Epoch [1/5], Batch [1/30], Loss: 0.1308\n",
      "Epoch [1/5], Batch [2/30], Loss: 0.0728\n",
      "Epoch [1/5], Batch [3/30], Loss: 34844.1094\n",
      "Epoch [1/5], Batch [4/30], Loss: 0.0513\n",
      "Epoch [1/5], Batch [5/30], Loss: 0.0946\n",
      "Epoch [1/5], Batch [6/30], Loss: 0.1109\n",
      "Epoch [1/5], Batch [7/30], Loss: 0.1178\n",
      "Epoch [1/5], Batch [8/30], Loss: 0.1194\n",
      "Epoch [1/5], Batch [9/30], Loss: 0.1188\n",
      "Epoch [1/5], Batch [10/30], Loss: 0.1115\n",
      "Epoch [1/5], Batch [11/30], Loss: 0.1024\n",
      "Epoch [1/5], Batch [12/30], Loss: 0.1100\n",
      "Epoch [1/5], Batch [13/30], Loss: 0.1014\n",
      "Epoch [1/5], Batch [14/30], Loss: 0.0858\n",
      "Epoch [1/5], Batch [15/30], Loss: 0.0623\n",
      "Epoch [1/5], Batch [16/30], Loss: 0.1006\n",
      "Epoch [1/5], Batch [17/30], Loss: 0.2524\n",
      "Epoch [1/5], Batch [18/30], Loss: 0.0717\n",
      "Epoch [1/5], Batch [19/30], Loss: 0.0892\n",
      "Epoch [1/5], Batch [20/30], Loss: 0.0957\n",
      "Epoch [1/5], Batch [21/30], Loss: 0.0969\n",
      "Epoch [1/5], Batch [22/30], Loss: 0.0949\n",
      "Epoch [1/5], Batch [23/30], Loss: 0.0917\n",
      "Epoch [1/5], Batch [24/30], Loss: 0.0884\n",
      "Epoch [1/5], Batch [25/30], Loss: 0.0838\n",
      "Epoch [1/5], Batch [26/30], Loss: 0.0771\n",
      "Epoch [1/5], Batch [27/30], Loss: 0.0708\n",
      "Epoch [1/5], Batch [28/30], Loss: 0.0612\n",
      "Epoch [1/5], Batch [29/30], Loss: 0.0503\n",
      "Epoch [1/5], Batch [30/30], Loss: 0.0362\n",
      "Epoch [1/5] , Val Loss: 0.0249\n",
      "Epoch [2/5], Batch [1/30], Loss: 0.0238\n",
      "Epoch [2/5], Batch [2/30], Loss: 0.0202\n",
      "Epoch [2/5], Batch [3/30], Loss: 0.1164\n",
      "Epoch [2/5], Batch [4/30], Loss: 0.0679\n",
      "Epoch [2/5], Batch [5/30], Loss: 0.0305\n",
      "Epoch [2/5], Batch [6/30], Loss: 0.0256\n",
      "Epoch [2/5], Batch [7/30], Loss: 0.0312\n",
      "Epoch [2/5], Batch [8/30], Loss: 0.0303\n",
      "Epoch [2/5], Batch [9/30], Loss: 0.0252\n",
      "Epoch [2/5], Batch [10/30], Loss: 0.0186\n",
      "Epoch [2/5], Batch [11/30], Loss: 0.0142\n",
      "Epoch [2/5], Batch [12/30], Loss: 0.0152\n",
      "Epoch [2/5], Batch [13/30], Loss: 0.0105\n",
      "Epoch [2/5], Batch [14/30], Loss: 0.0068\n",
      "Epoch [2/5], Batch [15/30], Loss: 0.0060\n",
      "Epoch [2/5], Batch [16/30], Loss: 0.0061\n",
      "Epoch [2/5], Batch [17/30], Loss: 0.0062\n",
      "Epoch [2/5], Batch [18/30], Loss: 0.0063\n",
      "Epoch [2/5], Batch [19/30], Loss: 0.0062\n",
      "Epoch [2/5], Batch [20/30], Loss: 0.0076\n",
      "Epoch [2/5], Batch [21/30], Loss: 0.0075\n",
      "Epoch [2/5], Batch [22/30], Loss: 0.0071\n",
      "Epoch [2/5], Batch [23/30], Loss: 0.0065\n",
      "Epoch [2/5], Batch [24/30], Loss: 0.0056\n",
      "Epoch [2/5], Batch [25/30], Loss: 0.0049\n",
      "Epoch [2/5], Batch [26/30], Loss: 0.0043\n",
      "Epoch [2/5], Batch [27/30], Loss: 0.0043\n",
      "Epoch [2/5], Batch [28/30], Loss: 0.0045\n",
      "Epoch [2/5], Batch [29/30], Loss: 0.0045\n",
      "Epoch [2/5], Batch [30/30], Loss: 0.0046\n",
      "Epoch [2/5] , Val Loss: 0.0046\n",
      "Epoch [3/5], Batch [1/30], Loss: 0.0045\n",
      "Epoch [3/5], Batch [2/30], Loss: 0.0042\n",
      "Epoch [3/5], Batch [3/30], Loss: 0.0039\n",
      "Epoch [3/5], Batch [4/30], Loss: 0.0036\n",
      "Epoch [3/5], Batch [5/30], Loss: 0.0034\n",
      "Epoch [3/5], Batch [6/30], Loss: 0.0034\n",
      "Epoch [3/5], Batch [7/30], Loss: 0.0033\n"
     ]
    },
    {
     "ename": "KeyboardInterrupt",
     "evalue": "",
     "output_type": "error",
     "traceback": [
      "\u001b[1;31m---------------------------------------------------------------------------\u001b[0m",
      "\u001b[1;31mKeyboardInterrupt\u001b[0m                         Traceback (most recent call last)",
      "Cell \u001b[1;32mIn[16], line 19\u001b[0m\n\u001b[0;32m     16\u001b[0m loss \u001b[39m=\u001b[39m criterion(outputs, labels)\n\u001b[0;32m     18\u001b[0m \u001b[39m# Backward pass\u001b[39;00m\n\u001b[1;32m---> 19\u001b[0m loss\u001b[39m.\u001b[39;49mbackward()\n\u001b[0;32m     21\u001b[0m \u001b[39m# Update the parameters\u001b[39;00m\n\u001b[0;32m     22\u001b[0m optimizer\u001b[39m.\u001b[39mstep()\n",
      "File \u001b[1;32mc:\\Users\\20193709\\AppData\\Local\\anaconda3\\envs\\ml4sc\\lib\\site-packages\\torch\\_tensor.py:396\u001b[0m, in \u001b[0;36mTensor.backward\u001b[1;34m(self, gradient, retain_graph, create_graph, inputs)\u001b[0m\n\u001b[0;32m    387\u001b[0m \u001b[39mif\u001b[39;00m has_torch_function_unary(\u001b[39mself\u001b[39m):\n\u001b[0;32m    388\u001b[0m     \u001b[39mreturn\u001b[39;00m handle_torch_function(\n\u001b[0;32m    389\u001b[0m         Tensor\u001b[39m.\u001b[39mbackward,\n\u001b[0;32m    390\u001b[0m         (\u001b[39mself\u001b[39m,),\n\u001b[1;32m   (...)\u001b[0m\n\u001b[0;32m    394\u001b[0m         create_graph\u001b[39m=\u001b[39mcreate_graph,\n\u001b[0;32m    395\u001b[0m         inputs\u001b[39m=\u001b[39minputs)\n\u001b[1;32m--> 396\u001b[0m torch\u001b[39m.\u001b[39;49mautograd\u001b[39m.\u001b[39;49mbackward(\u001b[39mself\u001b[39;49m, gradient, retain_graph, create_graph, inputs\u001b[39m=\u001b[39;49minputs)\n",
      "File \u001b[1;32mc:\\Users\\20193709\\AppData\\Local\\anaconda3\\envs\\ml4sc\\lib\\site-packages\\torch\\autograd\\__init__.py:173\u001b[0m, in \u001b[0;36mbackward\u001b[1;34m(tensors, grad_tensors, retain_graph, create_graph, grad_variables, inputs)\u001b[0m\n\u001b[0;32m    168\u001b[0m     retain_graph \u001b[39m=\u001b[39m create_graph\n\u001b[0;32m    170\u001b[0m \u001b[39m# The reason we repeat same the comment below is that\u001b[39;00m\n\u001b[0;32m    171\u001b[0m \u001b[39m# some Python versions print out the first line of a multi-line function\u001b[39;00m\n\u001b[0;32m    172\u001b[0m \u001b[39m# calls in the traceback and some print out the last line\u001b[39;00m\n\u001b[1;32m--> 173\u001b[0m Variable\u001b[39m.\u001b[39;49m_execution_engine\u001b[39m.\u001b[39;49mrun_backward(  \u001b[39m# Calls into the C++ engine to run the backward pass\u001b[39;49;00m\n\u001b[0;32m    174\u001b[0m     tensors, grad_tensors_, retain_graph, create_graph, inputs,\n\u001b[0;32m    175\u001b[0m     allow_unreachable\u001b[39m=\u001b[39;49m\u001b[39mTrue\u001b[39;49;00m, accumulate_grad\u001b[39m=\u001b[39;49m\u001b[39mTrue\u001b[39;49;00m)\n",
      "\u001b[1;31mKeyboardInterrupt\u001b[0m: "
     ]
    }
   ],
   "source": [
    "num_epochs = 5\n",
    "\n",
    "for epoch in range(num_epochs):\n",
    "    # Set the model to training mode\n",
    "    model.train()\n",
    "    \n",
    "    # Iterate over the training data\n",
    "    for i, (images, labels) in enumerate(train_loader):\n",
    "        # Zero the parameter gradients\n",
    "        optimizer.zero_grad()\n",
    "        \n",
    "        # Forward pass\n",
    "        outputs = model(images)\n",
    "        \n",
    "        # Compute the loss\n",
    "        loss = criterion(outputs, labels)\n",
    "        \n",
    "        # Backward pass\n",
    "        loss.backward()\n",
    "        \n",
    "        # Update the parameters\n",
    "        optimizer.step()\n",
    "        \n",
    "        # Print the loss every 10 batches\n",
    "        if i % 1 == 0:\n",
    "            print(f'Epoch [{epoch+1}/{num_epochs}], Batch [{i+1}/{len(train_loader)}], Loss: {loss.item():.4f}')\n",
    "    \n",
    "    # Set the model to evaluation mode\n",
    "    model.eval()\n",
    "    \n",
    "    # Compute the validation loss\n",
    "    val_loss = 0.0\n",
    "    with torch.no_grad():\n",
    "        for images, labels in val_loader:\n",
    "            # Forward pass\n",
    "            outputs = model(images)\n",
    "            \n",
    "            # Compute the loss\n",
    "            loss = criterion(outputs, labels)\n",
    "            \n",
    "            # Accumulate the loss over all batches\n",
    "            val_loss += loss.item() * images.size(0)\n",
    "    \n",
    "    # Compute the average validation loss\n",
    "    val_loss /= len(val_data)\n",
    "    print(f'Epoch [{epoch+1}/{num_epochs}] , Val Loss: {val_loss:.4f}')\n",
    "\n",
    "#Save model\n",
    "torch.save(model.state_dict(), 'Unet_smallangle.pt')"
   ]
  },
  {
   "cell_type": "code",
   "execution_count": 40,
   "metadata": {},
   "outputs": [],
   "source": [
    "torch.save(model.state_dict(), 'Unet_smallangle.pt')"
   ]
  },
  {
   "cell_type": "code",
   "execution_count": 8,
   "metadata": {},
   "outputs": [
    {
     "data": {
      "text/plain": [
       "<All keys matched successfully>"
      ]
     },
     "execution_count": 8,
     "metadata": {},
     "output_type": "execute_result"
    }
   ],
   "source": [
    "# Load model\n",
    "model = UNet()\n",
    "model.load_state_dict(torch.load('Unet_real.pt'))"
   ]
  },
  {
   "cell_type": "code",
   "execution_count": 11,
   "metadata": {},
   "outputs": [
    {
     "data": {
      "text/plain": [
       "torch.Size([1, 1, 256, 256])"
      ]
     },
     "execution_count": 11,
     "metadata": {},
     "output_type": "execute_result"
    }
   ],
   "source": [
    "# Testing model on given outptut\n",
    "# image_path = \"Droplet_XY_val/drop_s40_v5_r0.5_str2_pos2.png\"drop_s40_v5_r0.5_str5_pos11.png\n",
    "image_path = \"Droplet_Val_Real/drop_s40_v5_r0.5_str4_pos0_cam3.png\"\n",
    "# image_path = \"syringe-needle-with-droplet-close-up-stuart-minzey.jpg\"\n",
    "image = Image.open(image_path)\n",
    "image = image.convert('RGB')\n",
    "image = image.resize((256,256))\n",
    "img = transform(image)\n",
    "img = img.unsqueeze(0)\n",
    "img.size()\n",
    "\n",
    "image_mask_path = \"Droplet_Mask_Val_Real/drop_s40_v5_r0.5_str4_pos0_cam3.png\"\n",
    "image_mask = Image.open(image_mask_path)\n",
    "image_mask = image_mask.convert('L')\n",
    "img_mask = transform_mask(image_mask)\n",
    "img_mask = img_mask.unsqueeze(0)\n",
    "img_mask.size()"
   ]
  },
  {
   "cell_type": "code",
   "execution_count": 13,
   "metadata": {},
   "outputs": [],
   "source": []
  },
  {
   "cell_type": "code",
   "execution_count": 12,
   "metadata": {},
   "outputs": [
    {
     "data": {
      "image/png": "[encoded data removed]",
      "text/plain": [
       "<Figure size 640x480 with 3 Axes>"
      ]
     },
     "metadata": {},
     "output_type": "display_data"
    }
   ],
   "source": [
    "import numpy as np\n",
    "import matplotlib.pyplot as plt\n",
    "\n",
    "# Assuming you have the trained model and a test image\n",
    "\n",
    "# Set the model to evaluation mode\n",
    "model.eval()\n",
    "\n",
    "# Perform forward pass on the test image\n",
    "with torch.no_grad():\n",
    "    output = model(img)  # Assuming you have the test image as a tensor\n",
    "\n",
    "# Convert the output tensor to a numpy array and squeeze the batch and channel dimensions\n",
    "output_np = output.squeeze(0).squeeze(0).cpu().numpy()\n",
    "\n",
    "# Apply a threshold to convert the output to a binary mask\n",
    "threshold = 0.5  # Adjust the threshold value as needed\n",
    "mask = (output_np >= threshold).astype(np.uint8)\n",
    "# Plot the original test image\n",
    "plt.subplot(1, 3, 1)\n",
    "plt.imshow(image.resize((256,256)))\n",
    "plt.title('Original Image')\n",
    "# Plot the original mask\n",
    "plt.subplot(1, 3, 2)\n",
    "plt.imshow(image_mask.resize((256,256)))\n",
    "plt.title('Original Mask')\n",
    "# Plot the generated mask\n",
    "plt.subplot(1, 3, 3)\n",
    "plt.imshow(mask)\n",
    "plt.title('Generated Mask')\n",
    "\n",
    "plt.show()"
   ]
  },
  {
   "cell_type": "code",
   "execution_count": 102,
   "metadata": {},
   "outputs": [
    {
     "name": "stdout",
     "output_type": "stream",
     "text": [
      "tensor([[[[-0.0682, -0.0679, -0.0676,  ..., -0.0682, -0.0666, -0.0696],\n",
      "          [-0.0676, -0.0652, -0.0653,  ..., -0.0651, -0.0659, -0.0693],\n",
      "          [-0.0686, -0.0640, -0.0662,  ..., -0.0656, -0.0656, -0.0693],\n",
      "          ...,\n",
      "          [-0.0685, -0.0647, -0.0655,  ..., -0.0636, -0.0641, -0.0681],\n",
      "          [-0.0686, -0.0646, -0.0645,  ..., -0.0631, -0.0640, -0.0664],\n",
      "          [-0.0694, -0.0662, -0.0663,  ..., -0.0660, -0.0656, -0.0677]]]])\n"
     ]
    }
   ],
   "source": [
    "print(output)"
   ]
  }
 ],
 "metadata": {
  "kernelspec": {
   "display_name": "ml4sc",
   "language": "python",
   "name": "python3"
  },
  "language_info": {
   "codemirror_mode": {
    "name": "ipython",
    "version": 3
   },
   "file_extension": ".py",
   "mimetype": "text/x-python",
   "name": "python",
   "nbconvert_exporter": "python",
   "pygments_lexer": "ipython3",
   "version": "3.8.1"
  },
  "orig_nbformat": 4
 },
 "nbformat": 4,
 "nbformat_minor": 2
}
