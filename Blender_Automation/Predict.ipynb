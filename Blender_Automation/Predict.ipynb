{
 "cells": [
  {
   "cell_type": "code",
   "execution_count": 2,
   "metadata": {},
   "outputs": [],
   "source": [
    "import torch\n",
    "import torch.nn as nn\n",
    "from torchvision import transforms\n",
    "from PIL import Image\n",
    "from torchvision.transforms import Normalize\n",
    "from torchvision.transforms import ToTensor\n",
    "import matplotlib.pyplot as plt\n",
    "import numpy as np\n",
    "from skimage.filters import threshold_otsu\n",
    "import os\n",
    "import re\n",
    "import glob\n",
    "import pandas as pd\n",
    "from sklearn.metrics import mean_squared_error"
   ]
  },
  {
   "cell_type": "code",
   "execution_count": 3,
   "metadata": {},
   "outputs": [],
   "source": [
    "# Load CNN and UNET\n",
    "from CNN_Mask_to_Tens import CNN\n",
    "from UNet import UNet"
   ]
  },
  {
   "cell_type": "code",
   "execution_count": 4,
   "metadata": {},
   "outputs": [],
   "source": [
    "# Create a new folder to store the output figures\n",
    "output_folder = \"output_figures_Unet\"\n",
    "os.makedirs(output_folder, exist_ok=True)\n",
    "\n",
    "# Define the input folder containing the images\n",
    "input_folder = \"R3080_realval\"\n",
    "\n",
    "model = UNet()\n",
    "# Load the trained weights\n",
    "model.load_state_dict(torch.load('Unet_R3080.pt'))\n",
    "model.eval()\n",
    "\n",
    "# Load and preprocess each input image\n",
    "image_files = glob.glob(os.path.join(input_folder, \"*.png\"))  # Change the file extension if necessary\n",
    "\n",
    "for image_file in image_files:\n",
    "    # Load and preprocess the input image\n",
    "    image = Image.open(image_file)\n",
    "\n",
    "    transform = transforms.Compose([\n",
    "        transforms.ToTensor(),\n",
    "        transforms.Normalize(mean=[0.4414, 0.4456, 0.3421], std=[0.2741, 0.2734, 0.3030])\n",
    "    ])\n",
    "    image = image.convert('RGB')\n",
    "    image = transform(image)  \n",
    "\n",
    "    # Make a prediction\n",
    "    with torch.no_grad():\n",
    "        output = model(image.unsqueeze(0))\n",
    "\n",
    "    # Convert the output tensor to a numpy array\n",
    "    output_np = output.squeeze(0).squeeze(0).cpu().detach().numpy()\n",
    "\n",
    "    # Apply a threshold to convert the output to a binary mask\n",
    "    threshold = 0.5  # Adjust the threshold value as needed\n",
    "    mask = (output_np >= threshold).astype(np.uint8)\n",
    "\n",
    "    # Convert the binary mask to a PIL Image\n",
    "    pil_image = transforms.ToPILImage()(mask)\n",
    "\n",
    "    # Convert the PIL Image to a NumPy array\n",
    "    numpy_image = np.array(pil_image)\n",
    "\n",
    "    # Save the output image\n",
    "    output_filename = os.path.splitext(os.path.basename(image_file))[0] + \"_output.jpg\"\n",
    "    output_path = os.path.join(output_folder, output_filename)\n",
    "    \n",
    "    # Save the image using plt.savefig()\n",
    "    plt.imsave(output_path, numpy_image)"
   ]
  },
  {
   "cell_type": "code",
   "execution_count": 5,
   "metadata": {},
   "outputs": [
    {
     "name": "stdout",
     "output_type": "stream",
     "text": [
      "Predicted value: 32.033836364746094\n"
     ]
    }
   ],
   "source": [
    "\n",
    "image = Image.open('output_figures_Unet\\drop_s30_v5_r0.5_str4_pos2_cam4_output.jpg')  # Replace 'input_image.jpg' with the path to your input image file\n",
    "\n",
    "transform = transforms.Compose([\n",
    "    transforms.Resize(512),\n",
    "    transforms.CenterCrop(512),\n",
    "    transforms.ToTensor(),\n",
    "    transforms.Normalize(mean=[0.5, 0.5, 0.5], std=[0.4753, 0.4753, 0.4753])\n",
    "])\n",
    "\n",
    "transformed_image = transform(image)\n",
    "\n",
    "# Binarize inputs\n",
    "threshold = 0.5\n",
    "inputs = torch.where(transformed_image >= threshold, torch.ones_like(transformed_image), torch.zeros_like(transformed_image))\n",
    "\n",
    "inputs = inputs.unsqueeze(0)[:,:1,:,:] # Select 1 channel\n",
    "\n",
    "# Create an instance of your CNN model\n",
    "model = CNN()\n",
    "\n",
    "# Load the pre-trained weights\n",
    "model.load_state_dict(torch.load('trained_model_Train_10200_simple.pt'))\n",
    "model.eval()\n",
    "\n",
    "#Make a prediction\n",
    "with torch.no_grad():\n",
    "    output_CNN = model(inputs)\n",
    "\n",
    "# Convert the output to a readable format\n",
    "predicted_value = output_CNN.item()\n",
    "\n",
    "# Print the predicted value\n",
    "print('Predicted value:', predicted_value)\n"
   ]
  },
  {
   "cell_type": "code",
   "execution_count": 6,
   "metadata": {},
   "outputs": [
    {
     "name": "stdout",
     "output_type": "stream",
     "text": [
      "    Real Value  Predicted Value  Difference\n",
      "0         30.0        30.693792   -0.693792\n",
      "1         30.0        29.597069    0.402931\n",
      "2         30.0        29.851631    0.148369\n",
      "3         30.0        31.045670   -1.045670\n",
      "4         30.0        32.190872   -2.190872\n",
      "5         30.0        31.160711   -1.160711\n",
      "6         30.0        29.600239    0.399761\n",
      "7         30.0        29.586588    0.413412\n",
      "8         30.0        30.004063   -0.004063\n",
      "9         30.0        28.878178    1.121822\n",
      "10        30.0        30.624796   -0.624796\n",
      "11        30.0        29.557686    0.442314\n",
      "12        30.0        29.833735    0.166265\n",
      "13        30.0        31.042912   -1.042912\n",
      "14        30.0        32.213589   -2.213589\n",
      "15        30.0        31.161579   -1.161579\n",
      "16        30.0        29.597630    0.402370\n",
      "17        30.0        29.582081    0.417919\n",
      "18        30.0        29.970592    0.029408\n",
      "19        30.0        28.844240    1.155760\n",
      "20        30.0        30.603840   -0.603840\n",
      "21        30.0        29.553345    0.446655\n",
      "22        30.0        29.859055    0.140945\n",
      "23        30.0        31.040119   -1.040119\n",
      "24        30.0        32.033836   -2.033836\n",
      "25        30.0        31.157990   -1.157990\n",
      "26        30.0        29.573891    0.426109\n",
      "27        30.0        29.602020    0.397980\n",
      "28        30.0        30.203024   -0.203024\n",
      "29        30.0        28.751135    1.248865\n"
     ]
    }
   ],
   "source": [
    "# Create an instance of your CNN model\n",
    "model = CNN()\n",
    "\n",
    "# Load the pre-trained weights\n",
    "model.load_state_dict(torch.load('trained_model_Train_10200_simple.pt'))\n",
    "model.eval()\n",
    "\n",
    "# Define the image transformation\n",
    "transform = transforms.Compose([\n",
    "    transforms.Resize(512),\n",
    "    transforms.CenterCrop(512),\n",
    "    transforms.ToTensor(),\n",
    "    transforms.Normalize(mean=[0.5, 0.5, 0.5], std=[0.4753, 0.4753, 0.4753])\n",
    "])\n",
    "\n",
    "# Specify the folder containing PNG files\n",
    "folder_path = 'output_figures_Unet'\n",
    "\n",
    "# Create a list to store the extracted values and predictions\n",
    "data = []\n",
    "\n",
    "# Loop over each PNG file in the folder\n",
    "for filename in os.listdir(folder_path):\n",
    "    if filename.endswith(\".jpg\"):\n",
    "        # Extract the real value from the filename\n",
    "        real_value = float(filename.split(\"_s\")[1].split(\"_\")[0])\n",
    "\n",
    "        # Load and preprocess the input image\n",
    "        image_path = os.path.join(folder_path, filename)\n",
    "        image = Image.open(image_path)\n",
    "        transformed_image = transform(image)\n",
    "\n",
    "        # Binarize inputs\n",
    "        threshold = 0.5\n",
    "        inputs = torch.where(transformed_image >= threshold, torch.ones_like(transformed_image), torch.zeros_like(transformed_image))\n",
    "\n",
    "        inputs = inputs.unsqueeze(0)[:,:1,:,:]  # Select 1 channel\n",
    "\n",
    "        # Make a prediction\n",
    "        with torch.no_grad():\n",
    "            output_CNN = model(inputs)\n",
    "\n",
    "        # Convert the output to a readable format\n",
    "        predicted_value = output_CNN.item()\n",
    "\n",
    "        # Append the real value and predicted value to the data list\n",
    "        data.append((real_value, predicted_value))\n",
    "\n",
    "# Create a dataframe from the data list\n",
    "df = pd.DataFrame(data, columns=[\"Real Value\", \"Predicted Value\"])\n",
    "\n",
    "# Calculate the difference between real_value and predicted_value\n",
    "df['Difference'] = df['Real Value'] - df['Predicted Value']\n",
    "\n",
    "# Print the modified DataFrame\n",
    "print(df)"
   ]
  },
  {
   "cell_type": "code",
   "execution_count": 7,
   "metadata": {},
   "outputs": [
    {
     "data": {
      "image/png": "[encoded data removed]",
      "text/plain": [
       "<Figure size 432x288 with 1 Axes>"
      ]
     },
     "metadata": {
      "needs_background": "light"
     },
     "output_type": "display_data"
    }
   ],
   "source": [
    "# Filter the predictions_test_df to include only the range 40-70 real values $$$\n",
    "filtered_predictions_test_df = df[(df['Real Value'] >= 40) & (df['Real Value'] <= 70)]\n",
    "\n",
    "# Create a scatter plot\n",
    "plt.scatter(filtered_predictions_test_df['Real Value'], filtered_predictions_test_df['Predicted Value'], marker='x')\n",
    "\n",
    "# Plot the line y = x\n",
    "x = np.linspace(filtered_predictions_test_df['Real Value'].min(), filtered_predictions_test_df['Real Value'].max(), 100)\n",
    "plt.plot(x, x, color='orange')\n",
    "\n",
    "# Set plot labels and title\n",
    "plt.xlabel('Real Value')\n",
    "plt.ylabel('Predicted Value')\n",
    "plt.title('Scatter Plot of Real Value vs Predicted Value')\n",
    "\n",
    "# Save plot\n",
    "plt.savefig('Scatter_real_vs_pred_total.jpeg', format='jpeg')\n",
    "\n",
    "# Display the plot\n",
    "plt.show()"
   ]
  },
  {
   "cell_type": "code",
   "execution_count": 8,
   "metadata": {},
   "outputs": [
    {
     "data": {
      "image/png": "[encoded data removed]",
      "text/plain": [
       "<Figure size 432x288 with 1 Axes>"
      ]
     },
     "metadata": {
      "needs_background": "light"
     },
     "output_type": "display_data"
    }
   ],
   "source": [
    "# Calculate the MSE per real value\n",
    "mse_per_real_value_test = filtered_predictions_test_df.groupby('Real Value')['Difference'].apply(lambda x: mean_squared_error(x, np.zeros_like(x)))\n",
    "\n",
    "# Plot the MSE per real value\n",
    "plt.bar(mse_per_real_value_test.index, mse_per_real_value_test)\n",
    "plt.xlabel('Real Value')\n",
    "plt.ylabel('MSE')\n",
    "plt.title('MSE per Real Value')\n",
    "\n",
    "# Save plot\n",
    "plt.savefig('MSE_per_real_total.jpeg', format='jpeg')\n",
    "\n",
    "# Show the plot\n",
    "plt.show()"
   ]
  },
  {
   "cell_type": "code",
   "execution_count": 9,
   "metadata": {},
   "outputs": [
    {
     "name": "stdout",
     "output_type": "stream",
     "text": [
      "Average MSE: 0.94\n",
      "Accuracy: 50.00%\n"
     ]
    }
   ],
   "source": [
    "# Define hit\n",
    "max_dif = 0.5\n",
    "\n",
    "# Calculate the accuracy\n",
    "hits = df[abs(df['Real Value'] - df['Predicted Value']) <= max_dif]\n",
    "accuracy = len(hits) / len(df) * 100\n",
    "\n",
    "# Calculate the MSE\n",
    "mse = mean_squared_error(df['Real Value'], df['Predicted Value'])\n",
    "\n",
    "# Print the MSE\n",
    "print(\"Average MSE: {:.2f}\".format(mse))\n",
    "# Print the accuracy\n",
    "print(\"Accuracy: {:.2f}%\".format(accuracy))"
   ]
  }
 ],
 "metadata": {
  "kernelspec": {
   "display_name": "base",
   "language": "python",
   "name": "python3"
  },
  "language_info": {
   "codemirror_mode": {
    "name": "ipython",
    "version": 3
   },
   "file_extension": ".py",
   "mimetype": "text/x-python",
   "name": "python",
   "nbconvert_exporter": "python",
   "pygments_lexer": "ipython3",
   "version": "3.8.8"
  },
  "orig_nbformat": 4
 },
 "nbformat": 4,
 "nbformat_minor": 2
}
