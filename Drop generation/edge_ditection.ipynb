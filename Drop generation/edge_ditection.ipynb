{
 "cells": [
  {
   "cell_type": "code",
   "execution_count": 2,
   "metadata": {},
   "outputs": [],
   "source": [
    "import numpy as np\n",
    "import cv2\n",
    "\n",
    "\n",
    "image_path=('d:\\OneDrive\\Documents\\GitHub\\Bayesian_PendantDrop_Tensiometry\\images_experiment\\edited_220304_miliq_T17.7_S73.04.png')\n",
    "image=cv2.imread(image_path)\n",
    "image=cv2.cvtColor(image,cv2.COLOR_BGR2GRAY)\n",
    "cv2.imshow('Original',image)\n",
    "cv2.waitKey()\n",
    "\n",
    "lap=cv2.Laplacian(image,cv2.CV_64F)\n",
    "lap=np.uint8(np.absolute(lap))\n",
    "cv2.imshow('Laplacian',lap)\n",
    "cv2.waitKey()\n",
    "cv2.destroyAllWindows()"
   ]
  },
  {
   "cell_type": "code",
   "execution_count": null,
   "metadata": {},
   "outputs": [],
   "source": []
  }
 ],
 "metadata": {
  "kernelspec": {
   "display_name": "Python 3",
   "language": "python",
   "name": "python3"
  },
  "language_info": {
   "codemirror_mode": {
    "name": "ipython",
    "version": 3
   },
   "file_extension": ".py",
   "mimetype": "text/x-python",
   "name": "python",
   "nbconvert_exporter": "python",
   "pygments_lexer": "ipython3",
   "version": "3.10.11"
  },
  "orig_nbformat": 4
 },
 "nbformat": 4,
 "nbformat_minor": 2
}
